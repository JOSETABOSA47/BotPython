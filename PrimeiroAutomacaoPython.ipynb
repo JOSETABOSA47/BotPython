{
 "cells": [
  {
   "cell_type": "code",
   "execution_count": 37,
   "id": "b6b018be",
   "metadata": {},
   "outputs": [],
   "source": [
    "from selenium import webdriver\n",
    "import pyautogui\n",
    "import time\n",
    "\n",
    "navegador = webdriver.Chrome()\n",
    "\n",
    "navegador.get(\"https://ri.magazineluiza.com.br/\")\n",
    "navegador.find_element_by_xpath('//*[@id=\"owl-destaques\"]/div[1]/div/div[4]/div/a/img').click()\n",
    "navegador.find_element_by_xpath('//*[@id=\"bWtQ7n6RcQdDDDCgCcH3yg==\"]').click()\n",
    "time.sleep(5)\n",
    "pyautogui.click(x=116, y=1037)\n",
    "\n",
    "time.sleep(5)\n",
    "pyautogui.click(x=119, y=58)\n",
    "time.sleep(3)\n",
    "pyautogui.click(x=180, y=394)\n",
    "\n",
    "time.sleep(1)\n",
    "pyautogui.click(x=439, y=438)\n",
    "\n",
    "time.sleep(1)\n",
    "pyautogui.click(x=249, y=106)\n",
    "time.sleep(1)\n",
    "pyautogui.write(\"TesteAutomação_1\")\n",
    "time.sleep(2)\n",
    "pyautogui.press(\"enter\")\n",
    "pyautogui.press(\"enter\")\n",
    "time.sleep(1)\n",
    "pyautogui.click(x=810, y=588)"
   ]
  },
  {
   "cell_type": "code",
   "execution_count": null,
   "id": "7aae5039",
   "metadata": {},
   "outputs": [],
   "source": []
  }
 ],
 "metadata": {
  "kernelspec": {
   "display_name": "Python 3",
   "language": "python",
   "name": "python3"
  },
  "language_info": {
   "codemirror_mode": {
    "name": "ipython",
    "version": 3
   },
   "file_extension": ".py",
   "mimetype": "text/x-python",
   "name": "python",
   "nbconvert_exporter": "python",
   "pygments_lexer": "ipython3",
   "version": "3.8.8"
  }
 },
 "nbformat": 4,
 "nbformat_minor": 5
}
