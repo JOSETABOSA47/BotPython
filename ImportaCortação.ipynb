{
 "cells": [
  {
   "cell_type": "code",
   "execution_count": 35,
   "id": "14fa5723",
   "metadata": {},
   "outputs": [
    {
     "name": "stdout",
     "output_type": "stream",
     "text": [
      "                High       Low      Open     Close      Volume  Adj Close\n",
      "Date                                                                     \n",
      "2020-02-20  116552.0  114379.0  116518.0  114586.0   6793000.0   114586.0\n",
      "2020-02-21  114585.0  112661.0  114585.0  113681.0   5896200.0   113681.0\n",
      "2020-02-27  106656.0  102984.0  105711.0  102984.0  11237700.0   102984.0\n",
      "2020-02-28  104172.0   99951.0  102984.0  104172.0  11228400.0   104172.0\n",
      "2020-03-02  107220.0  103779.0  104260.0  106625.0   8858400.0   106625.0\n",
      "...              ...       ...       ...       ...         ...        ...\n",
      "2021-02-10  119738.0  117970.0  119472.0  118430.0   8644600.0   118430.0\n",
      "2021-02-11  120283.0  118440.0  118440.0  119235.0   7567400.0   119235.0\n",
      "2021-02-12  119763.0  118163.0  119300.0  119116.0   7655900.0   119116.0\n",
      "2021-02-18  120845.0  118515.0  120361.0  119140.0  10720600.0   119140.0\n",
      "2021-02-19  119250.0  117867.0  119199.0  118748.0  10402800.0   118748.0\n",
      "\n",
      "[243 rows x 6 columns]\n"
     ]
    }
   ],
   "source": [
    "import pandas as pd\n",
    "from pandas_datareader import data as web\n",
    "import matplotlib.pyplot as plt\n",
    "\n",
    "# vamos pegar cotação do Indice e de Petrobras\n",
    "\n",
    "#indice\n",
    "df = web.DataReader('^BVSP', data_source='yahoo', start=f'02-20-2020', end='02-20-2021')\n",
    "print(df)"
   ]
  },
  {
   "cell_type": "code",
   "execution_count": null,
   "id": "81a99bdb",
   "metadata": {},
   "outputs": [],
   "source": []
  }
 ],
 "metadata": {
  "kernelspec": {
   "display_name": "Python 3",
   "language": "python",
   "name": "python3"
  },
  "language_info": {
   "codemirror_mode": {
    "name": "ipython",
    "version": 3
   },
   "file_extension": ".py",
   "mimetype": "text/x-python",
   "name": "python",
   "nbconvert_exporter": "python",
   "pygments_lexer": "ipython3",
   "version": "3.8.8"
  }
 },
 "nbformat": 4,
 "nbformat_minor": 5
}
