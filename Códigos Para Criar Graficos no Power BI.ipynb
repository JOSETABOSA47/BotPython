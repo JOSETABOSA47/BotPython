{
 "cells": [
  {
   "cell_type": "code",
   "execution_count": null,
   "id": "07de6f9b",
   "metadata": {},
   "outputs": [],
   "source": [
    "import matplotlib.pyplot as plt \n",
    "dataset.plot(kind='scatter', x='Adj Close', y='Volume')\n",
    "plt.show()\n",
    "\n",
    "import matplotlib.pyplot as plt \n",
    "dataset.plot(kind='bar',x='Adj Close',y='Volume') \n",
    "plt.show()\n",
    "\n",
    "import matplotlib.pyplot as plt \n",
    "ax = plt.gca() \n",
    "dataset.plot(kind='line',x='Adj Close',y='Volume',ax=ax) \n",
    "dataset.plot(kind='line',x='Adj Close',y='Volume', color='red', ax=ax) \n",
    "plt.show() \n",
    "\n",
    "import matplotlib.pyplot as plt \n",
    "ax = plt.gca() \n",
    "dataset.plot(kind='line',x='High',y='Low',ax=ax) \n",
    "dataset.plot(kind='line',x='High',y='Low', color='blue', ax=ax) \n",
    "plt.show() "
   ]
  }
 ],
 "metadata": {
  "kernelspec": {
   "display_name": "Python 3",
   "language": "python",
   "name": "python3"
  },
  "language_info": {
   "codemirror_mode": {
    "name": "ipython",
    "version": 3
   },
   "file_extension": ".py",
   "mimetype": "text/x-python",
   "name": "python",
   "nbconvert_exporter": "python",
   "pygments_lexer": "ipython3",
   "version": "3.8.8"
  }
 },
 "nbformat": 4,
 "nbformat_minor": 5
}
