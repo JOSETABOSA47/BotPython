{
 "cells": [
  {
   "cell_type": "code",
   "execution_count": null,
   "id": "8bf4ddb1",
   "metadata": {},
   "outputs": [],
   "source": [
    "import pandas as pd\n",
    "import win32com.client as win32\n",
    "\n",
    "# importar a base de dados\n",
    "tabela_vendas = pd.read_excel('Vendas.xlsx')\n",
    "\n",
    "# visualizar a base de dados\n",
    "pd.set_option('display.max_columns', None)\n",
    "print(tabela_vendas)\n",
    "\n",
    "# faturamento por loja\n",
    "faturamento = tabela_vendas[['ID Loja', 'Valor Final']].groupby('ID Loja').sum()\n",
    "print(faturamento)\n",
    "\n",
    "# quantidade de produtos vendidos por loja\n",
    "quantidade = tabela_vendas[['ID Loja', 'Quantidade']].groupby('ID Loja').sum()\n",
    "print(quantidade)\n",
    "\n",
    "print('-' * 50)\n",
    "# ticket médio por produto em cada loja\n",
    "ticket_medio = (faturamento['Valor Final'] / quantidade['Quantidade']).to_frame()\n",
    "ticket_medio = ticket_medio.rename(columns={0: 'Ticket Médio'})\n",
    "print(ticket_medio)\n",
    "\n",
    "# enviar um email com o relatório\n",
    "outlook = win32.Dispatch('outlook.application')\n",
    "mail = outlook.CreateItem(0)\n",
    "mail.To = 'josetabosa47@gmail.com'\n",
    "mail.Subject = 'Relatório de Vendas por Loja'\n",
    "mail.HTMLBody = f'''\n",
    "<p>Prezados,</p>\n",
    "\n",
    "<p>Segue o Relatório de Vendas por cada Loja.</p>\n",
    "\n",
    "<p>Faturamento:</p>\n",
    "{faturamento.to_html(formatters={'Valor Final': 'R${:,.2f}'.format})}\n",
    "\n",
    "<p>Quantidade Vendida:</p>\n",
    "{quantidade.to_html()}\n",
    "\n",
    "<p>Ticket Médio dos Produtos em cada Loja:</p>\n",
    "{ticket_medio.to_html(formatters={'Ticket Médio': 'R${:,.2f}'.format})}\n",
    "\n",
    "<p>Qualquer dúvida estou à disposição.</p>\n",
    "\n",
    "<p>Att.,</p>\n",
    "<p>Lira</p>\n",
    "'''\n",
    "\n",
    "mail.Send()\n",
    "\n",
    "print('Email Enviado')\n"
   ]
  },
  {
   "cell_type": "code",
   "execution_count": null,
   "id": "27552f4e",
   "metadata": {},
   "outputs": [],
   "source": []
  }
 ],
 "metadata": {
  "kernelspec": {
   "display_name": "Python 3",
   "language": "python",
   "name": "python3"
  },
  "language_info": {
   "codemirror_mode": {
    "name": "ipython",
    "version": 3
   },
   "file_extension": ".py",
   "mimetype": "text/x-python",
   "name": "python",
   "nbconvert_exporter": "python",
   "pygments_lexer": "ipython3",
   "version": "3.8.8"
  }
 },
 "nbformat": 4,
 "nbformat_minor": 5
}
