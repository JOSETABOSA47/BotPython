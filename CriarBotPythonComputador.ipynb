{
 "cells": [
  {
   "cell_type": "code",
   "execution_count": 7,
   "id": "d710a9cb",
   "metadata": {},
   "outputs": [],
   "source": [
    "#bot no computador...\n",
    "\n",
    "import pyautogui\n",
    "\n",
    "pyautogui.PAUSE = 5\n",
    "\n",
    "pyautogui.press(\"win\")\n",
    "pyautogui.write(\"documentos:login.xlsx\")\n",
    "pyautogui.press(\"enter\")\n",
    "\n",
    "pyautogui.click(x=535, y=341)\n",
    "pyautogui.write(\"jose\")\n",
    "pyautogui.click(x=542, y=392)\n",
    "pyautogui.write(\"550899\")\n",
    "pyautogui.click(x=417, y=527)"
   ]
  },
  {
   "cell_type": "code",
   "execution_count": 5,
   "id": "8b3529dc",
   "metadata": {},
   "outputs": [
    {
     "data": {
      "text/plain": [
       "Point(x=417, y=527)"
      ]
     },
     "execution_count": 5,
     "metadata": {},
     "output_type": "execute_result"
    }
   ],
   "source": [
    "import time\n",
    "\n",
    "time.sleep(3)\n",
    "pyautogui.position()"
   ]
  },
  {
   "cell_type": "code",
   "execution_count": null,
   "id": "852f0699",
   "metadata": {},
   "outputs": [],
   "source": []
  }
 ],
 "metadata": {
  "kernelspec": {
   "display_name": "Python 3",
   "language": "python",
   "name": "python3"
  },
  "language_info": {
   "codemirror_mode": {
    "name": "ipython",
    "version": 3
   },
   "file_extension": ".py",
   "mimetype": "text/x-python",
   "name": "python",
   "nbconvert_exporter": "python",
   "pygments_lexer": "ipython3",
   "version": "3.8.8"
  }
 },
 "nbformat": 4,
 "nbformat_minor": 5
}
